{
 "cells": [
  {
   "cell_type": "code",
   "execution_count": 2,
   "id": "f2a185d0-1022-4272-b39d-c2def639141d",
   "metadata": {},
   "outputs": [
    {
     "ename": "FileNotFoundError",
     "evalue": "[Errno 2] No such file or directory: 'Final_Project'",
     "output_type": "error",
     "traceback": [
      "\u001b[1;31m---------------------------------------------------------------------------\u001b[0m",
      "\u001b[1;31mFileNotFoundError\u001b[0m                         Traceback (most recent call last)",
      "Cell \u001b[1;32mIn[2], line 6\u001b[0m\n\u001b[0;32m      2\u001b[0m warnings\u001b[38;5;241m.\u001b[39mfilterwarnings(\u001b[38;5;124m\"\u001b[39m\u001b[38;5;124mignore\u001b[39m\u001b[38;5;124m\"\u001b[39m)\n\u001b[0;32m      4\u001b[0m \u001b[38;5;28;01mimport\u001b[39;00m \u001b[38;5;21;01mpickle\u001b[39;00m\n\u001b[1;32m----> 6\u001b[0m \u001b[38;5;28;01mwith\u001b[39;00m \u001b[38;5;28mopen\u001b[39m(\u001b[38;5;124m'\u001b[39m\u001b[38;5;124mFinal_Project\u001b[39m\u001b[38;5;124m'\u001b[39m,\u001b[38;5;124m'\u001b[39m\u001b[38;5;124mrb\u001b[39m\u001b[38;5;124m'\u001b[39m) \u001b[38;5;28;01mas\u001b[39;00m f:\n\u001b[0;32m      7\u001b[0m     model \u001b[38;5;241m=\u001b[39m pickle\u001b[38;5;241m.\u001b[39mload(f)\n",
      "File \u001b[1;32m~\\anaconda3\\Lib\\site-packages\\IPython\\core\\interactiveshell.py:324\u001b[0m, in \u001b[0;36m_modified_open\u001b[1;34m(file, *args, **kwargs)\u001b[0m\n\u001b[0;32m    317\u001b[0m \u001b[38;5;28;01mif\u001b[39;00m file \u001b[38;5;129;01min\u001b[39;00m {\u001b[38;5;241m0\u001b[39m, \u001b[38;5;241m1\u001b[39m, \u001b[38;5;241m2\u001b[39m}:\n\u001b[0;32m    318\u001b[0m     \u001b[38;5;28;01mraise\u001b[39;00m \u001b[38;5;167;01mValueError\u001b[39;00m(\n\u001b[0;32m    319\u001b[0m         \u001b[38;5;124mf\u001b[39m\u001b[38;5;124m\"\u001b[39m\u001b[38;5;124mIPython won\u001b[39m\u001b[38;5;124m'\u001b[39m\u001b[38;5;124mt let you open fd=\u001b[39m\u001b[38;5;132;01m{\u001b[39;00mfile\u001b[38;5;132;01m}\u001b[39;00m\u001b[38;5;124m by default \u001b[39m\u001b[38;5;124m\"\u001b[39m\n\u001b[0;32m    320\u001b[0m         \u001b[38;5;124m\"\u001b[39m\u001b[38;5;124mas it is likely to crash IPython. If you know what you are doing, \u001b[39m\u001b[38;5;124m\"\u001b[39m\n\u001b[0;32m    321\u001b[0m         \u001b[38;5;124m\"\u001b[39m\u001b[38;5;124myou can use builtins\u001b[39m\u001b[38;5;124m'\u001b[39m\u001b[38;5;124m open.\u001b[39m\u001b[38;5;124m\"\u001b[39m\n\u001b[0;32m    322\u001b[0m     )\n\u001b[1;32m--> 324\u001b[0m \u001b[38;5;28;01mreturn\u001b[39;00m io_open(file, \u001b[38;5;241m*\u001b[39margs, \u001b[38;5;241m*\u001b[39m\u001b[38;5;241m*\u001b[39mkwargs)\n",
      "\u001b[1;31mFileNotFoundError\u001b[0m: [Errno 2] No such file or directory: 'Final_Project'"
     ]
    }
   ],
   "source": [
    "import warnings\n",
    "warnings.filterwarnings(\"ignore\")\n",
    "\n",
    "import pickle\n",
    "\n",
    "with open('Final_Project','rb') as f:\n",
    "    model = pickle.load(f)"
   ]
  },
  {
   "cell_type": "code",
   "execution_count": 3,
   "id": "5321e563-780c-40ba-b431-01145e8d009e",
   "metadata": {},
   "outputs": [
    {
     "name": "stderr",
     "output_type": "stream",
     "text": [
      "Exception in Tkinter callback\n",
      "Traceback (most recent call last):\n",
      "  File \"C:\\Users\\maraw\\anaconda3\\Lib\\tkinter\\__init__.py\", line 1968, in __call__\n",
      "    return self.func(*args)\n",
      "           ^^^^^^^^^^^^^^^^\n",
      "  File \"C:\\Users\\maraw\\AppData\\Local\\Temp\\ipykernel_10752\\3022061844.py\", line 86, in calculate_salary\n",
      "    predicted_salary = model.predict(input_data)[0]\n",
      "                       ^^^^^\n",
      "NameError: name 'model' is not defined\n"
     ]
    },
    {
     "data": {
      "text/plain": [
       "<__main__.MyApp at 0x140ee4d7860>"
      ]
     },
     "execution_count": 3,
     "metadata": {},
     "output_type": "execute_result"
    }
   ],
   "source": [
    "import tkinter as tk\n",
    "\n",
    "job_title_encoding ={'Software Engineer': 159, 'Data Analyst': 17, 'Senior Manager': 130, 'Sales Associate': 101, 'Director': 22, 'Marketing Analyst': 81, 'Product Manager': 93, 'Sales Manager': 104, 'Marketing Coordinator': 82, 'Senior Scientist': 150, 'Software Developer': 158, 'HR Manager': 40, 'Financial Analyst': 36, 'Project Manager': 96, 'Customer Service Rep': 13, 'Operations Manager': 89, 'Marketing Manager': 83, 'Senior Engineer': 116, 'Data Entry Clerk': 18, 'Sales Director': 102, 'Business Analyst': 3, 'VP of Operations': 172, 'IT Support': 44, 'Recruiter': 98, 'Financial Manager': 37, 'Social Media Specialist': 157, 'Software Manager': 160, 'Junior Developer': 57, 'Senior Consultant': 112, 'Product Designer': 92, 'CEO': 6, 'Accountant': 1, 'Data Scientist': 19, 'Marketing Specialist': 84, 'Technical Writer': 167, 'HR Generalist': 39, 'Project Engineer': 95, 'Customer Success Rep': 16, 'Sales Executive': 103, 'UX Designer': 169, 'Operations Director': 88, 'Network Engineer': 85, 'Administrative Assistant': 2, 'Strategy Consultant': 162, 'Copywriter': 10, 'Account Manager': 0, 'Director of Marketing': 29, 'Help Desk Analyst': 41, 'Customer Service Manager': 12, 'Business Intelligence Analyst': 5, 'Event Coordinator': 34, 'VP of Finance': 171, 'Graphic Designer': 38, 'UX Researcher': 170, 'Social Media Manager': 156, 'Director of Operations': 30, 'Senior Data Scientist': 115, 'Junior Accountant': 47, 'Digital Marketing Manager': 21, 'IT Manager': 43, 'Customer Service Representative': 14, 'Business Development Manager': 4, 'Senior Financial Analyst': 118, 'Web Developer': 173, 'Research Director': 99, 'Technical Support Specialist': 166, 'Creative Director': 11, 'Senior Software Engineer': 153, 'Human Resources Director': 42, 'Content Marketing Manager': 9, 'Technical Recruiter': 165, 'Sales Representative': 106, 'Chief Technology Officer': 8, 'Junior Designer': 56, 'Financial Advisor': 35, 'Junior Account Manager': 46, 'Senior Project Manager': 144, 'Principal Scientist': 91, 'Supply Chain Manager': 164, 'Senior Marketing Manager': 134, 'Training Specialist': 168, 'Research Scientist': 100, 'Junior Software Developer': 76, 'Public Relations Manager': 97, 'Operations Analyst': 87, 'Product Marketing Manager': 94, 'Senior HR Manager': 122, 'Junior Web Developer': 80, 'Senior Project Coordinator': 143, 'Chief Data Officer': 7, 'Digital Content Producer': 20, 'IT Support Specialist': 45, 'Senior Marketing Analyst': 131, 'Customer Success Manager': 15, 'Senior Graphic Designer': 120, 'Software Project Manager': 161, 'Supply Chain Analyst': 163, 'Senior Business Analyst': 110, 'Junior Marketing Analyst': 62, 'Office Manager': 86, 'Principal Engineer': 90, 'Junior HR Generalist': 61, 'Senior Product Manager': 141, 'Junior Operations Analyst': 66, 'Senior HR Generalist': 121, 'Sales Operations Manager': 105, 'Senior Software Developer': 152, 'Junior Web Designer': 79, 'Senior Training Specialist': 154, 'Senior Research Scientist': 146, 'Junior Sales Representative': 73, 'Junior Marketing Manager': 64, 'Junior Data Analyst': 54, 'Senior Product Marketing Manager': 142, 'Junior Business Analyst': 49, 'Senior Sales Manager': 148, 'Junior Marketing Specialist': 65, 'Junior Project Manager': 70, 'Senior Accountant': 109, 'Director of Sales': 32, 'Junior Recruiter': 71, 'Senior Business Development Manager': 111, 'Senior Product Designer': 139, 'Junior Customer Support Specialist': 53, 'Senior IT Support Specialist': 129, 'Junior Financial Analyst': 59, 'Senior Operations Manager': 138, 'Director of Human Resources': 28, 'Junior Software Engineer': 77, 'Senior Sales Representative': 149, 'Director of Product Management': 31, 'Junior Copywriter': 52, 'Senior Marketing Coordinator': 132, 'Senior Human Resources Manager': 125, 'Junior Business Development Associate': 50, 'Senior Account Manager': 108, 'Senior Researcher': 147, 'Junior HR Coordinator': 60, 'Director of Finance': 25, 'Junior Marketing Coordinator': 63, 'Junior Data Scientist': 55, 'Senior Operations Analyst': 136, 'Senior Human Resources Coordinator': 124, 'Senior UX Designer': 155, 'Junior Product Manager': 69, 'Senior Marketing Specialist': 135, 'Senior IT Project Manager': 128, 'Senior Quality Assurance Analyst': 145, 'Director of Sales and Marketing': 33, 'Senior Account Executive': 107, 'Director of Business Development': 23, 'Junior Social Media Manager': 74, 'Senior Human Resources Specialist': 126, 'Senior Data Analyst': 113, 'Director of Human Capital': 27, 'Junior Advertising Coordinator': 48, 'Junior UX Designer': 78, 'Senior Marketing Director': 133, 'Senior IT Consultant': 127, 'Senior Financial Advisor': 117, 'Junior Business Operations Analyst': 51, 'Junior Social Media Specialist': 75, 'Senior Product Development Manager': 140, 'Junior Operations Manager': 68, 'Senior Software Architect': 151, 'Junior Research Scientist': 72, 'Senior Financial Manager': 119, 'Senior HR Specialist': 123, 'Senior Data Engineer': 114, 'Junior Operations Coordinator': 67, 'Director of HR': 26, 'Senior Operations Coordinator': 137, 'Junior Financial Advisor': 58, 'Director of Engineering': 24}\n",
    "\n",
    "\n",
    "\n",
    "class MyApp:\n",
    "    def __init__(self):\n",
    "        self.root = tk.Tk()\n",
    "        self.root.geometry(\"800x600\")\n",
    "        self.root.title(\"Salary Prediction\")\n",
    "\n",
    "        self.label1 = tk.Label(self.root, text=\"Age\", font=('Arial', 18))\n",
    "        self.label1.pack(padx=10, pady=10)\n",
    "\n",
    "        self.textbox1 = tk.Entry(self.root, width=20)\n",
    "        self.textbox1.pack(padx=10, pady=10)\n",
    "\n",
    "        self.label2 = tk.Label(self.root, text=\"Gender:\", font=('Arial', 18))\n",
    "        self.label2.pack(padx=10, pady=10)\n",
    "\n",
    "        self.textbox2 = tk.Entry(self.root, width=20)\n",
    "        self.textbox2.pack(padx=10, pady=10)\n",
    "\n",
    "        self.label3 = tk.Label(self.root, text=\"Education Level:\", font=('Arial', 18))\n",
    "        self.label3.pack(padx=10, pady=10)\n",
    "\n",
    "        self.textbox3 = tk.Entry(self.root, width=20)\n",
    "        self.textbox3.pack(padx=10, pady=10)\n",
    "\n",
    "        self.label4 = tk.Label(self.root, text=\"Job Title:\", font=('Arial', 18))\n",
    "        self.label4.pack(padx=10, pady=10)\n",
    "\n",
    "        self.textbox4 = tk.Entry(self.root, width=20)\n",
    "        self.textbox4.pack(padx=10, pady=10)\n",
    "\n",
    "        self.label5 = tk.Label(self.root, text=\"Years Of Experience:\", font=('Arial', 18))\n",
    "        self.label5.pack(padx=10, pady=10)\n",
    "\n",
    "        self.textbox5 = tk.Entry(self.root, width=20)\n",
    "        self.textbox5.pack(padx=10, pady=10)\n",
    "\n",
    "        self.button = tk.Button(self.root, text=\"Calculate Salary\", command=self.calculate_salary)\n",
    "        self.button.pack(padx=10, pady=10)\n",
    "\n",
    "        self.result_label = tk.Label(self.root, text=\"\", font=('Arial', 14))\n",
    "        self.result_label.pack(padx=10, pady=10)\n",
    "\n",
    "        self.root.mainloop()\n",
    "\n",
    "    def calculate_salary(self):\n",
    "        age = self.textbox1.get().strip()\n",
    "        gender = self.textbox2.get().strip()\n",
    "        education_level = self.textbox3.get().strip()\n",
    "        job_title = self.textbox4.get().strip()\n",
    "        years_of_experience = self.textbox5.get().strip()\n",
    "\n",
    "        if gender.lower() == \"female\":\n",
    "            gender_num = 0\n",
    "        elif gender.lower() == \"male\":\n",
    "            gender_num = 1\n",
    "        else:\n",
    "            self.result_label.config(text=\"Invalid gender input. Please enter 'male' or 'female'.\")\n",
    "            return\n",
    "\n",
    "        if education_level == \"Bachelor's\":\n",
    "            education_num = 0\n",
    "        elif education_level == \"Master's\":\n",
    "            education_num = 1\n",
    "        elif education_level == \"PhD\":\n",
    "            education_num = 2\n",
    "        else:\n",
    "            self.result_label.config(text=\"Please enter 'Bachelor's', 'Master's', or 'PhD' for education level.\")\n",
    "            return\n",
    "\n",
    "        \n",
    "        job_title_num = job_title_encoding.get(job_title)\n",
    "        if job_title_num is None:\n",
    "            self.result_label.config(text=\"Invalid job title. Please enter a valid job title.\")\n",
    "            return\n",
    "\n",
    "        try:\n",
    "            age = int(age)\n",
    "            years_of_experience = float(years_of_experience)\n",
    "            input_data = [[age, gender_num, education_num, job_title_num, years_of_experience]]\n",
    "            predicted_salary = model.predict(input_data)[0]\n",
    "            self.result_label.config(text=f\"The Salary is: ${predicted_salary:,.2f}\")\n",
    "\n",
    "        except ValueError:\n",
    "            self.result_label.config(text=\"Please enter valid inputs.\")\n",
    "\n",
    "MyApp()"
   ]
  },
  {
   "cell_type": "code",
   "execution_count": null,
   "id": "9e6894d7-ff59-499f-b5e0-e2dbc49cdac7",
   "metadata": {},
   "outputs": [],
   "source": []
  }
 ],
 "metadata": {
  "kernelspec": {
   "display_name": "Python 3 (ipykernel)",
   "language": "python",
   "name": "python3"
  },
  "language_info": {
   "codemirror_mode": {
    "name": "ipython",
    "version": 3
   },
   "file_extension": ".py",
   "mimetype": "text/x-python",
   "name": "python",
   "nbconvert_exporter": "python",
   "pygments_lexer": "ipython3",
   "version": "3.12.4"
  }
 },
 "nbformat": 4,
 "nbformat_minor": 5
}
